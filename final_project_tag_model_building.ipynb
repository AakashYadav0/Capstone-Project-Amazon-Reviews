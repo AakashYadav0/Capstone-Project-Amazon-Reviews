{
 "cells": [
  {
   "cell_type": "code",
   "execution_count": 26,
   "id": "68062538",
   "metadata": {},
   "outputs": [],
   "source": [
    "#Basic libraries\n",
    "import pandas as pd \n",
    "import numpy as np \n",
    "\n",
    "#NLTK libraries\n",
    "import nltk\n",
    "import re\n",
    "import string\n",
    "from wordcloud import WordCloud,STOPWORDS\n",
    "\n",
    "\n",
    "# Machine Learning libraries\n",
    "import sklearn\n",
    "from sklearn import preprocessing\n",
    "from sklearn.preprocessing import LabelEncoder\n",
    "from sklearn.model_selection import train_test_split\n",
    "from sklearn.model_selection import  StratifiedKFold, cross_val_score\n",
    "from sklearn.metrics import f1_score, roc_auc_score,roc_curve\n",
    "from sklearn.metrics import classification_report,confusion_matrix,accuracy_score\n",
    "\n",
    "from sklearn.linear_model import LogisticRegression\n",
    "from sklearn.naive_bayes import GaussianNB \n",
    "from sklearn.naive_bayes import MultinomialNB\n",
    "from sklearn.tree import DecisionTreeClassifier\n",
    "from sklearn.ensemble import RandomForestClassifier\n",
    "from sklearn.ensemble import AdaBoostClassifier\n",
    "from sklearn import neighbors\n",
    "from sklearn.feature_extraction.text import TfidfVectorizer  \n",
    "from sklearn.preprocessing import MultiLabelBinarizer\n",
    "from sklearn.multiclass import OneVsRestClassifier\n",
    "from xgboost import XGBClassifier\n",
    "#Visualization libraries\n",
    "import matplotlib.pyplot as plt \n",
    "import seaborn as sns\n",
    "%matplotlib inline\n",
    "\n",
    "#Ignore warnings\n",
    "import warnings\n",
    "warnings.filterwarnings('ignore')\n",
    "\n",
    "#Other miscellaneous libraries\n",
    "from collections import Counter\n"
   ]
  },
  {
   "cell_type": "code",
   "execution_count": 2,
   "id": "c9008763",
   "metadata": {},
   "outputs": [
    {
     "data": {
      "text/html": [
       "<div>\n",
       "<style scoped>\n",
       "    .dataframe tbody tr th:only-of-type {\n",
       "        vertical-align: middle;\n",
       "    }\n",
       "\n",
       "    .dataframe tbody tr th {\n",
       "        vertical-align: top;\n",
       "    }\n",
       "\n",
       "    .dataframe thead th {\n",
       "        text-align: right;\n",
       "    }\n",
       "</style>\n",
       "<table border=\"1\" class=\"dataframe\">\n",
       "  <thead>\n",
       "    <tr style=\"text-align: right;\">\n",
       "      <th></th>\n",
       "      <th>Unnamed: 0</th>\n",
       "      <th>reviewerID</th>\n",
       "      <th>asin</th>\n",
       "      <th>overall</th>\n",
       "      <th>reviewTime</th>\n",
       "      <th>helpful_score</th>\n",
       "      <th>reviews</th>\n",
       "      <th>Sentiment_score</th>\n",
       "      <th>Sentiments</th>\n",
       "    </tr>\n",
       "  </thead>\n",
       "  <tbody>\n",
       "    <tr>\n",
       "      <th>0</th>\n",
       "      <td>0</td>\n",
       "      <td>A1VXOAVRGKGEAK</td>\n",
       "      <td>0439893577</td>\n",
       "      <td>5</td>\n",
       "      <td>2014-01-29</td>\n",
       "      <td>0.0</td>\n",
       "      <td>like item price granddaughter want mark want l...</td>\n",
       "      <td>0.4767</td>\n",
       "      <td>Positive</td>\n",
       "    </tr>\n",
       "    <tr>\n",
       "      <th>1</th>\n",
       "      <td>1</td>\n",
       "      <td>A8R62G708TSCM</td>\n",
       "      <td>0439893577</td>\n",
       "      <td>4</td>\n",
       "      <td>2014-03-28</td>\n",
       "      <td>1.0</td>\n",
       "      <td>love magnet easel great move different areas w...</td>\n",
       "      <td>0.9545</td>\n",
       "      <td>Extreme Positive</td>\n",
       "    </tr>\n",
       "  </tbody>\n",
       "</table>\n",
       "</div>"
      ],
      "text/plain": [
       "   Unnamed: 0      reviewerID        asin  overall  reviewTime  helpful_score  \\\n",
       "0           0  A1VXOAVRGKGEAK  0439893577        5  2014-01-29            0.0   \n",
       "1           1   A8R62G708TSCM  0439893577        4  2014-03-28            1.0   \n",
       "\n",
       "                                             reviews  Sentiment_score  \\\n",
       "0  like item price granddaughter want mark want l...           0.4767   \n",
       "1  love magnet easel great move different areas w...           0.9545   \n",
       "\n",
       "         Sentiments  \n",
       "0          Positive  \n",
       "1  Extreme Positive  "
      ]
     },
     "execution_count": 2,
     "metadata": {},
     "output_type": "execute_result"
    }
   ],
   "source": [
    "toys_reviews7 = pd.read_csv('tag_nlp_final.csv')\n",
    "toys_reviews7.head(2)"
   ]
  },
  {
   "cell_type": "code",
   "execution_count": 3,
   "id": "3c1f84e8",
   "metadata": {},
   "outputs": [
    {
     "name": "stdout",
     "output_type": "stream",
     "text": [
      "trainx=99999, trainy=99999,testx=66667, testy=66667\n",
      "(99999, 2500)\n",
      "(66667, 2500)\n"
     ]
    }
   ],
   "source": [
    "x=toys_reviews7['reviews']\n",
    "y=toys_reviews7['Sentiments']\n",
    "trainx,testx,trainy,testy= train_test_split(x,y,test_size=0.4,random_state=20)\n",
    "print(\"trainx={}, trainy={},testx={}, testy={}\".format(len(trainx),len(trainy),len(testx),len(testy)))\n",
    "      \n",
    "vectorizer = TfidfVectorizer(sublinear_tf=True,\n",
    "                             max_df=0.5,\n",
    "                             min_df=1,\n",
    "                             use_idf=True,\n",
    "                             smooth_idf=True,lowercase=True, max_features=2500)\n",
    "\n",
    "trainx_v=vectorizer.fit_transform(trainx)\n",
    "testx_v=vectorizer.transform(testx)\n",
    "print(trainx_v.shape)\n",
    "print(testx_v.shape)"
   ]
  },
  {
   "cell_type": "code",
   "execution_count": null,
   "id": "7215fe10",
   "metadata": {},
   "outputs": [],
   "source": []
  },
  {
   "cell_type": "code",
   "execution_count": 4,
   "id": "05b048fd",
   "metadata": {},
   "outputs": [],
   "source": [
    "trainx_v=trainx_v.toarray()\n",
    "testx_v=testx_v.toarray()"
   ]
  },
  {
   "cell_type": "code",
   "execution_count": null,
   "id": "1f036425",
   "metadata": {},
   "outputs": [],
   "source": []
  },
  {
   "cell_type": "markdown",
   "id": "319a8804",
   "metadata": {},
   "source": [
    "### Naive Bayes"
   ]
  },
  {
   "cell_type": "code",
   "execution_count": 5,
   "id": "bef9b157",
   "metadata": {},
   "outputs": [],
   "source": [
    "nb = GaussianNB().fit(trainx_v,trainy)\n",
    "scorenb=round(nb.score(trainx_v,trainy)*100,2)\n",
    "y_prednb =nb.predict(testx_v)\n"
   ]
  },
  {
   "cell_type": "code",
   "execution_count": 6,
   "id": "73aa562a",
   "metadata": {},
   "outputs": [],
   "source": [
    "def evaluate(actual,predicted):\n",
    "    print('Accuracy:',accuracy_score(actual,predicted))\n",
    "    print('------------------------------------------------------------')\n",
    "    print('\\n Confusion Matrix: \\n',pd.crosstab(actual,predicted,margins=True))\n",
    "    print('------------------------------------------------------------')\n",
    "    print(\"\\nclassification report: \\n\",classification_report(testy, predicted))"
   ]
  },
  {
   "cell_type": "code",
   "execution_count": 21,
   "id": "8cd9bbfc",
   "metadata": {},
   "outputs": [
    {
     "name": "stdout",
     "output_type": "stream",
     "text": [
      "Accuracy: 0.8701906490467548\n",
      "------------------------------------------------------------\n",
      "\n",
      " Confusion Matrix: \n",
      " col_0             Extreme Positive  Positive    All\n",
      "Sentiments                                         \n",
      "Extreme Negative               565         0    565\n",
      "Extreme Positive             57985        11  57996\n",
      "Negative                      1170         0   1170\n",
      "Neutral                       1422         0   1422\n",
      "Positive                      5486        28   5514\n",
      "All                          66628        39  66667\n",
      "------------------------------------------------------------\n",
      "\n",
      "classification report: \n",
      "                   precision    recall  f1-score   support\n",
      "\n",
      "Extreme Negative       0.00      0.00      0.00       565\n",
      "Extreme Positive       0.87      1.00      0.93     57996\n",
      "        Negative       0.00      0.00      0.00      1170\n",
      "         Neutral       0.00      0.00      0.00      1422\n",
      "        Positive       0.72      0.01      0.01      5514\n",
      "\n",
      "        accuracy                           0.87     66667\n",
      "       macro avg       0.32      0.20      0.19     66667\n",
      "    weighted avg       0.82      0.87      0.81     66667\n",
      "\n"
     ]
    }
   ],
   "source": [
    "evaluate(testy,y_pred_dt)"
   ]
  },
  {
   "cell_type": "code",
   "execution_count": null,
   "id": "cb649e87",
   "metadata": {},
   "outputs": [],
   "source": []
  },
  {
   "cell_type": "markdown",
   "id": "7f39ac87",
   "metadata": {},
   "source": [
    "### Decision tree classifier"
   ]
  },
  {
   "cell_type": "code",
   "execution_count": 7,
   "id": "f614f605",
   "metadata": {},
   "outputs": [],
   "source": [
    "dtm = DecisionTreeClassifier(max_depth=6,min_samples_split=5,max_leaf_nodes=10)\n",
    "dtm1=dtm.fit(trainx_v,trainy)\n",
    "y_pred_dt=dtm1.predict(testx_v)\n"
   ]
  },
  {
   "cell_type": "code",
   "execution_count": 8,
   "id": "7e4f818c",
   "metadata": {},
   "outputs": [
    {
     "name": "stdout",
     "output_type": "stream",
     "text": [
      "Accuracy: 0.8701906490467548\n",
      "------------------------------------------------------------\n",
      "\n",
      " Confusion Matrix: \n",
      " col_0             Extreme Positive  Positive    All\n",
      "Sentiments                                         \n",
      "Extreme Negative               565         0    565\n",
      "Extreme Positive             57985        11  57996\n",
      "Negative                      1170         0   1170\n",
      "Neutral                       1422         0   1422\n",
      "Positive                      5486        28   5514\n",
      "All                          66628        39  66667\n",
      "------------------------------------------------------------\n",
      "\n",
      "classification report: \n",
      "                   precision    recall  f1-score   support\n",
      "\n",
      "Extreme Negative       0.00      0.00      0.00       565\n",
      "Extreme Positive       0.87      1.00      0.93     57996\n",
      "        Negative       0.00      0.00      0.00      1170\n",
      "         Neutral       0.00      0.00      0.00      1422\n",
      "        Positive       0.72      0.01      0.01      5514\n",
      "\n",
      "        accuracy                           0.87     66667\n",
      "       macro avg       0.32      0.20      0.19     66667\n",
      "    weighted avg       0.82      0.87      0.81     66667\n",
      "\n"
     ]
    }
   ],
   "source": [
    "evaluate(testy,y_pred_dt)"
   ]
  },
  {
   "cell_type": "code",
   "execution_count": null,
   "id": "05c38a8e",
   "metadata": {},
   "outputs": [],
   "source": []
  },
  {
   "cell_type": "markdown",
   "id": "f147d9c2",
   "metadata": {},
   "source": [
    "### Random forest classifier"
   ]
  },
  {
   "cell_type": "code",
   "execution_count": 9,
   "id": "bc0ab2b2",
   "metadata": {},
   "outputs": [
    {
     "name": "stdout",
     "output_type": "stream",
     "text": [
      "Accuracy: 0.8699356503217484\n",
      "------------------------------------------------------------\n",
      "\n",
      " Confusion Matrix: \n",
      " col_0             Extreme Positive    All\n",
      "Sentiments                               \n",
      "Extreme Negative               565    565\n",
      "Extreme Positive             57996  57996\n",
      "Negative                      1170   1170\n",
      "Neutral                       1422   1422\n",
      "Positive                      5514   5514\n",
      "All                          66667  66667\n",
      "------------------------------------------------------------\n",
      "\n",
      "classification report: \n",
      "                   precision    recall  f1-score   support\n",
      "\n",
      "Extreme Negative       0.00      0.00      0.00       565\n",
      "Extreme Positive       0.87      1.00      0.93     57996\n",
      "        Negative       0.00      0.00      0.00      1170\n",
      "         Neutral       0.00      0.00      0.00      1422\n",
      "        Positive       0.00      0.00      0.00      5514\n",
      "\n",
      "        accuracy                           0.87     66667\n",
      "       macro avg       0.17      0.20      0.19     66667\n",
      "    weighted avg       0.76      0.87      0.81     66667\n",
      "\n"
     ]
    }
   ],
   "source": [
    "modelrf = RandomForestClassifier(random_state=42, n_jobs=-1, max_depth=4, n_estimators=100, oob_score=True).fit(trainx_v,trainy)\n",
    "y_predr=modelrf.predict(testx_v)\n",
    "evaluate(testy,y_predr)"
   ]
  },
  {
   "cell_type": "code",
   "execution_count": 10,
   "id": "67ea80a8",
   "metadata": {},
   "outputs": [
    {
     "name": "stdout",
     "output_type": "stream",
     "text": [
      "Accuracy: 0.8699356503217484\n",
      "------------------------------------------------------------\n",
      "\n",
      " Confusion Matrix: \n",
      " col_0             Extreme Positive    All\n",
      "Sentiments                               \n",
      "Extreme Negative               565    565\n",
      "Extreme Positive             57996  57996\n",
      "Negative                      1170   1170\n",
      "Neutral                       1422   1422\n",
      "Positive                      5514   5514\n",
      "All                          66667  66667\n",
      "------------------------------------------------------------\n",
      "\n",
      "classification report: \n",
      "                   precision    recall  f1-score   support\n",
      "\n",
      "Extreme Negative       0.00      0.00      0.00       565\n",
      "Extreme Positive       0.87      1.00      0.93     57996\n",
      "        Negative       0.00      0.00      0.00      1170\n",
      "         Neutral       0.00      0.00      0.00      1422\n",
      "        Positive       0.00      0.00      0.00      5514\n",
      "\n",
      "        accuracy                           0.87     66667\n",
      "       macro avg       0.17      0.20      0.19     66667\n",
      "    weighted avg       0.76      0.87      0.81     66667\n",
      "\n"
     ]
    }
   ],
   "source": [
    "evaluate(testy,y_predr)"
   ]
  },
  {
   "cell_type": "code",
   "execution_count": null,
   "id": "b31679e6",
   "metadata": {},
   "outputs": [],
   "source": []
  },
  {
   "cell_type": "markdown",
   "id": "795f366f",
   "metadata": {},
   "source": [
    "### Logistic cv"
   ]
  },
  {
   "cell_type": "code",
   "execution_count": 11,
   "id": "a2d48973",
   "metadata": {},
   "outputs": [],
   "source": [
    "from sklearn.linear_model import LogisticRegressionCV\n",
    "clf = LogisticRegressionCV(cv=5, random_state=0,multi_class='multinomial').fit(trainx_v,trainy)\n",
    "y_pred_lrcv=clf.predict(testx_v)"
   ]
  },
  {
   "cell_type": "code",
   "execution_count": 12,
   "id": "cf1e3671",
   "metadata": {},
   "outputs": [
    {
     "name": "stdout",
     "output_type": "stream",
     "text": [
      "Accuracy: 0.9116504417477913\n",
      "------------------------------------------------------------\n",
      "\n",
      " Confusion Matrix: \n",
      " col_0             Extreme Negative  Extreme Positive  Negative  Neutral  \\\n",
      "Sentiments                                                                \n",
      "Extreme Negative               179                60       213       64   \n",
      "Extreme Positive                36             57010        52       63   \n",
      "Negative                       132               114       344      292   \n",
      "Neutral                         43               155       180      324   \n",
      "Positive                        57              2076       192      269   \n",
      "All                            447             59415       981     1012   \n",
      "\n",
      "col_0             Positive    All  \n",
      "Sentiments                         \n",
      "Extreme Negative        49    565  \n",
      "Extreme Positive       835  57996  \n",
      "Negative               288   1170  \n",
      "Neutral                720   1422  \n",
      "Positive              2920   5514  \n",
      "All                   4812  66667  \n",
      "------------------------------------------------------------\n",
      "\n",
      "classification report: \n",
      "                   precision    recall  f1-score   support\n",
      "\n",
      "Extreme Negative       0.40      0.32      0.35       565\n",
      "Extreme Positive       0.96      0.98      0.97     57996\n",
      "        Negative       0.35      0.29      0.32      1170\n",
      "         Neutral       0.32      0.23      0.27      1422\n",
      "        Positive       0.61      0.53      0.57      5514\n",
      "\n",
      "        accuracy                           0.91     66667\n",
      "       macro avg       0.53      0.47      0.50     66667\n",
      "    weighted avg       0.90      0.91      0.91     66667\n",
      "\n"
     ]
    }
   ],
   "source": [
    "evaluate(testy,y_pred_lrcv)"
   ]
  },
  {
   "cell_type": "code",
   "execution_count": null,
   "id": "45baaf10",
   "metadata": {},
   "outputs": [],
   "source": []
  },
  {
   "cell_type": "markdown",
   "id": "ba3edc2a",
   "metadata": {},
   "source": [
    "### adaboost"
   ]
  },
  {
   "cell_type": "code",
   "execution_count": 13,
   "id": "1cd7da4a",
   "metadata": {},
   "outputs": [],
   "source": [
    "ada = AdaBoostClassifier(n_estimators=40, learning_rate=1).fit(trainx_v,trainy)\n",
    "y_pred_ada=ada.predict(testx_v)"
   ]
  },
  {
   "cell_type": "code",
   "execution_count": 14,
   "id": "911a01d3",
   "metadata": {},
   "outputs": [
    {
     "name": "stdout",
     "output_type": "stream",
     "text": [
      "Accuracy: 0.8759356203218984\n",
      "------------------------------------------------------------\n",
      "\n",
      " Confusion Matrix: \n",
      " col_0             Extreme Negative  Extreme Positive  Negative  Neutral  \\\n",
      "Sentiments                                                                \n",
      "Extreme Negative                63               263        80        0   \n",
      "Extreme Positive                45             57312        29        1   \n",
      "Negative                        45               530        92        0   \n",
      "Neutral                         21               726        35        0   \n",
      "Positive                        23              4519        43        0   \n",
      "All                            197             63350       279        1   \n",
      "\n",
      "col_0             Positive    All  \n",
      "Sentiments                         \n",
      "Extreme Negative       159    565  \n",
      "Extreme Positive       609  57996  \n",
      "Negative               503   1170  \n",
      "Neutral                640   1422  \n",
      "Positive               929   5514  \n",
      "All                   2840  66667  \n",
      "------------------------------------------------------------\n",
      "\n",
      "classification report: \n",
      "                   precision    recall  f1-score   support\n",
      "\n",
      "Extreme Negative       0.32      0.11      0.17       565\n",
      "Extreme Positive       0.90      0.99      0.94     57996\n",
      "        Negative       0.33      0.08      0.13      1170\n",
      "         Neutral       0.00      0.00      0.00      1422\n",
      "        Positive       0.33      0.17      0.22      5514\n",
      "\n",
      "        accuracy                           0.88     66667\n",
      "       macro avg       0.38      0.27      0.29     66667\n",
      "    weighted avg       0.82      0.88      0.84     66667\n",
      "\n"
     ]
    }
   ],
   "source": [
    "evaluate(testy,y_pred_ada)"
   ]
  },
  {
   "cell_type": "code",
   "execution_count": null,
   "id": "fee09fcb",
   "metadata": {},
   "outputs": [],
   "source": []
  },
  {
   "cell_type": "markdown",
   "id": "fb9be7af",
   "metadata": {},
   "source": [
    "### Logistic one vs rest"
   ]
  },
  {
   "cell_type": "code",
   "execution_count": 15,
   "id": "92240230",
   "metadata": {},
   "outputs": [],
   "source": [
    "m1=LogisticRegression(max_iter=100)\n",
    "m1_ova=OneVsRestClassifier(m1).fit(trainx_v,trainy)"
   ]
  },
  {
   "cell_type": "code",
   "execution_count": 16,
   "id": "9b85db0b",
   "metadata": {},
   "outputs": [
    {
     "data": {
      "text/html": [
       "<div>\n",
       "<style scoped>\n",
       "    .dataframe tbody tr th:only-of-type {\n",
       "        vertical-align: middle;\n",
       "    }\n",
       "\n",
       "    .dataframe tbody tr th {\n",
       "        vertical-align: top;\n",
       "    }\n",
       "\n",
       "    .dataframe thead th {\n",
       "        text-align: right;\n",
       "    }\n",
       "</style>\n",
       "<table border=\"1\" class=\"dataframe\">\n",
       "  <thead>\n",
       "    <tr style=\"text-align: right;\">\n",
       "      <th></th>\n",
       "      <th>Actual</th>\n",
       "      <th>predicted</th>\n",
       "    </tr>\n",
       "  </thead>\n",
       "  <tbody>\n",
       "    <tr>\n",
       "      <th>62006</th>\n",
       "      <td>Extreme Positive</td>\n",
       "      <td>Extreme Positive</td>\n",
       "    </tr>\n",
       "    <tr>\n",
       "      <th>107212</th>\n",
       "      <td>Extreme Positive</td>\n",
       "      <td>Extreme Positive</td>\n",
       "    </tr>\n",
       "    <tr>\n",
       "      <th>160964</th>\n",
       "      <td>Positive</td>\n",
       "      <td>Positive</td>\n",
       "    </tr>\n",
       "    <tr>\n",
       "      <th>41830</th>\n",
       "      <td>Extreme Positive</td>\n",
       "      <td>Extreme Positive</td>\n",
       "    </tr>\n",
       "    <tr>\n",
       "      <th>139048</th>\n",
       "      <td>Negative</td>\n",
       "      <td>Positive</td>\n",
       "    </tr>\n",
       "  </tbody>\n",
       "</table>\n",
       "</div>"
      ],
      "text/plain": [
       "                  Actual         predicted\n",
       "62006   Extreme Positive  Extreme Positive\n",
       "107212  Extreme Positive  Extreme Positive\n",
       "160964          Positive          Positive\n",
       "41830   Extreme Positive  Extreme Positive\n",
       "139048          Negative          Positive"
      ]
     },
     "execution_count": 16,
     "metadata": {},
     "output_type": "execute_result"
    }
   ],
   "source": [
    "p1=m1_ova.predict(testx_v)\n",
    "pd.DataFrame({'Actual':testy,\"predicted\":p1})[1045:1050]"
   ]
  },
  {
   "cell_type": "code",
   "execution_count": 17,
   "id": "f3124ffe",
   "metadata": {},
   "outputs": [
    {
     "name": "stdout",
     "output_type": "stream",
     "text": [
      "Accuracy: 0.8909355453222734\n",
      "------------------------------------------------------------\n",
      "\n",
      " Confusion Matrix: \n",
      " col_0             Extreme Negative  Extreme Positive  Negative  Neutral  \\\n",
      "Sentiments                                                                \n",
      "Extreme Negative                45               150        74        7   \n",
      "Extreme Positive                 0             57808         7        1   \n",
      "Negative                         7               298        59       19   \n",
      "Neutral                          2               417        20        7   \n",
      "Positive                         7              3996        23       11   \n",
      "All                             61             62669       183       45   \n",
      "\n",
      "col_0             Positive    All  \n",
      "Sentiments                         \n",
      "Extreme Negative       289    565  \n",
      "Extreme Positive       180  57996  \n",
      "Negative               787   1170  \n",
      "Neutral                976   1422  \n",
      "Positive              1477   5514  \n",
      "All                   3709  66667  \n",
      "------------------------------------------------------------\n",
      "\n",
      "classification report: \n",
      "                   precision    recall  f1-score   support\n",
      "\n",
      "Extreme Negative       0.74      0.08      0.14       565\n",
      "Extreme Positive       0.92      1.00      0.96     57996\n",
      "        Negative       0.32      0.05      0.09      1170\n",
      "         Neutral       0.16      0.00      0.01      1422\n",
      "        Positive       0.40      0.27      0.32      5514\n",
      "\n",
      "        accuracy                           0.89     66667\n",
      "       macro avg       0.51      0.28      0.30     66667\n",
      "    weighted avg       0.85      0.89      0.86     66667\n",
      "\n"
     ]
    }
   ],
   "source": [
    "evaluate(testy,p1)"
   ]
  },
  {
   "cell_type": "markdown",
   "id": "3c4097e1",
   "metadata": {},
   "source": [
    "### multinomial"
   ]
  },
  {
   "cell_type": "code",
   "execution_count": 18,
   "id": "3a150e4a",
   "metadata": {},
   "outputs": [],
   "source": [
    "m2 = MultinomialNB()\n",
    "ovr2=OneVsRestClassifier(m2).fit(trainx_v,trainy)"
   ]
  },
  {
   "cell_type": "code",
   "execution_count": 19,
   "id": "817e858b",
   "metadata": {},
   "outputs": [
    {
     "data": {
      "text/html": [
       "<div>\n",
       "<style scoped>\n",
       "    .dataframe tbody tr th:only-of-type {\n",
       "        vertical-align: middle;\n",
       "    }\n",
       "\n",
       "    .dataframe tbody tr th {\n",
       "        vertical-align: top;\n",
       "    }\n",
       "\n",
       "    .dataframe thead th {\n",
       "        text-align: right;\n",
       "    }\n",
       "</style>\n",
       "<table border=\"1\" class=\"dataframe\">\n",
       "  <thead>\n",
       "    <tr style=\"text-align: right;\">\n",
       "      <th></th>\n",
       "      <th>Actual</th>\n",
       "      <th>predicted</th>\n",
       "    </tr>\n",
       "  </thead>\n",
       "  <tbody>\n",
       "    <tr>\n",
       "      <th>24794</th>\n",
       "      <td>Positive</td>\n",
       "      <td>Extreme Positive</td>\n",
       "    </tr>\n",
       "    <tr>\n",
       "      <th>5357</th>\n",
       "      <td>Extreme Positive</td>\n",
       "      <td>Extreme Positive</td>\n",
       "    </tr>\n",
       "    <tr>\n",
       "      <th>18023</th>\n",
       "      <td>Extreme Positive</td>\n",
       "      <td>Extreme Positive</td>\n",
       "    </tr>\n",
       "    <tr>\n",
       "      <th>123757</th>\n",
       "      <td>Extreme Positive</td>\n",
       "      <td>Extreme Positive</td>\n",
       "    </tr>\n",
       "    <tr>\n",
       "      <th>4199</th>\n",
       "      <td>Extreme Positive</td>\n",
       "      <td>Extreme Positive</td>\n",
       "    </tr>\n",
       "    <tr>\n",
       "      <th>19774</th>\n",
       "      <td>Positive</td>\n",
       "      <td>Extreme Positive</td>\n",
       "    </tr>\n",
       "    <tr>\n",
       "      <th>94890</th>\n",
       "      <td>Extreme Positive</td>\n",
       "      <td>Extreme Positive</td>\n",
       "    </tr>\n",
       "    <tr>\n",
       "      <th>50504</th>\n",
       "      <td>Extreme Positive</td>\n",
       "      <td>Extreme Positive</td>\n",
       "    </tr>\n",
       "    <tr>\n",
       "      <th>78830</th>\n",
       "      <td>Extreme Positive</td>\n",
       "      <td>Extreme Positive</td>\n",
       "    </tr>\n",
       "    <tr>\n",
       "      <th>156080</th>\n",
       "      <td>Negative</td>\n",
       "      <td>Extreme Positive</td>\n",
       "    </tr>\n",
       "  </tbody>\n",
       "</table>\n",
       "</div>"
      ],
      "text/plain": [
       "                  Actual         predicted\n",
       "24794           Positive  Extreme Positive\n",
       "5357    Extreme Positive  Extreme Positive\n",
       "18023   Extreme Positive  Extreme Positive\n",
       "123757  Extreme Positive  Extreme Positive\n",
       "4199    Extreme Positive  Extreme Positive\n",
       "19774           Positive  Extreme Positive\n",
       "94890   Extreme Positive  Extreme Positive\n",
       "50504   Extreme Positive  Extreme Positive\n",
       "78830   Extreme Positive  Extreme Positive\n",
       "156080          Negative  Extreme Positive"
      ]
     },
     "execution_count": 19,
     "metadata": {},
     "output_type": "execute_result"
    }
   ],
   "source": [
    "p2=ovr2.predict(testx_v)\n",
    "pd.DataFrame({'Actual':testy,\"predicted\":p2})[:10]"
   ]
  },
  {
   "cell_type": "code",
   "execution_count": 20,
   "id": "09c5ca91",
   "metadata": {},
   "outputs": [
    {
     "name": "stdout",
     "output_type": "stream",
     "text": [
      "Accuracy: 0.870040649796751\n",
      "------------------------------------------------------------\n",
      "\n",
      " Confusion Matrix: \n",
      " col_0             Extreme Negative  Extreme Positive  Negative  Positive  \\\n",
      "Sentiments                                                                 \n",
      "Extreme Negative                11               540         4        10   \n",
      "Extreme Positive                 5             57987         0         4   \n",
      "Negative                         1              1164         0         5   \n",
      "Neutral                          0              1420         0         2   \n",
      "Positive                         1              5508         0         5   \n",
      "All                             18             66619         4        26   \n",
      "\n",
      "col_0               All  \n",
      "Sentiments               \n",
      "Extreme Negative    565  \n",
      "Extreme Positive  57996  \n",
      "Negative           1170  \n",
      "Neutral            1422  \n",
      "Positive           5514  \n",
      "All               66667  \n",
      "------------------------------------------------------------\n",
      "\n",
      "classification report: \n",
      "                   precision    recall  f1-score   support\n",
      "\n",
      "Extreme Negative       0.61      0.02      0.04       565\n",
      "Extreme Positive       0.87      1.00      0.93     57996\n",
      "        Negative       0.00      0.00      0.00      1170\n",
      "         Neutral       0.00      0.00      0.00      1422\n",
      "        Positive       0.19      0.00      0.00      5514\n",
      "\n",
      "        accuracy                           0.87     66667\n",
      "       macro avg       0.33      0.20      0.19     66667\n",
      "    weighted avg       0.78      0.87      0.81     66667\n",
      "\n"
     ]
    }
   ],
   "source": [
    "evaluate(testy,p2)"
   ]
  },
  {
   "cell_type": "code",
   "execution_count": null,
   "id": "1876007c",
   "metadata": {},
   "outputs": [],
   "source": []
  },
  {
   "cell_type": "code",
   "execution_count": null,
   "id": "3958a0fd",
   "metadata": {},
   "outputs": [],
   "source": []
  }
 ],
 "metadata": {
  "kernelspec": {
   "display_name": "Python 3 (ipykernel)",
   "language": "python",
   "name": "python3"
  },
  "language_info": {
   "codemirror_mode": {
    "name": "ipython",
    "version": 3
   },
   "file_extension": ".py",
   "mimetype": "text/x-python",
   "name": "python",
   "nbconvert_exporter": "python",
   "pygments_lexer": "ipython3",
   "version": "3.9.12"
  }
 },
 "nbformat": 4,
 "nbformat_minor": 5
}
