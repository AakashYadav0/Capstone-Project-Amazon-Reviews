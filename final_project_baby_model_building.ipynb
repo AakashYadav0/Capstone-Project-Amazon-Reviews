{
 "cells": [
  {
   "cell_type": "code",
   "execution_count": 1,
   "id": "68062538",
   "metadata": {},
   "outputs": [],
   "source": [
    "#Basic libraries\n",
    "import pandas as pd \n",
    "import numpy as np \n",
    "\n",
    "#NLTK libraries\n",
    "import nltk\n",
    "import re\n",
    "import string\n",
    "from wordcloud import WordCloud,STOPWORDS\n",
    "\n",
    "# Machine Learning libraries\n",
    "import sklearn\n",
    "from sklearn.preprocessing import LabelEncoder\n",
    "from sklearn.model_selection import train_test_split\n",
    "from sklearn.model_selection import  StratifiedKFold, cross_val_score\n",
    "from sklearn.metrics import f1_score, roc_auc_score,roc_curve\n",
    "from sklearn.metrics import classification_report,confusion_matrix,accuracy_score\n",
    "\n",
    "from sklearn.linear_model import LogisticRegression\n",
    "from sklearn.naive_bayes import GaussianNB \n",
    "from sklearn.naive_bayes import MultinomialNB\n",
    "from sklearn.tree import DecisionTreeClassifier\n",
    "from sklearn.ensemble import RandomForestClassifier\n",
    "from sklearn.ensemble import AdaBoostClassifier\n",
    "from sklearn import neighbors\n",
    "from sklearn.feature_extraction.text import TfidfVectorizer  \n",
    "from sklearn.preprocessing import MultiLabelBinarizer\n",
    "from sklearn.multiclass import OneVsRestClassifier\n",
    "from xgboost import XGBClassifier\n",
    "#Visualization libraries\n",
    "import matplotlib.pyplot as plt \n",
    "import seaborn as sns\n",
    "%matplotlib inline\n",
    "\n",
    "#Ignore warnings\n",
    "import warnings\n",
    "warnings.filterwarnings('ignore')\n",
    "\n",
    "#Other miscellaneous libraries\n",
    "from collections import Counter\n"
   ]
  },
  {
   "cell_type": "code",
   "execution_count": 2,
   "id": "c9008763",
   "metadata": {},
   "outputs": [
    {
     "data": {
      "text/html": [
       "<div>\n",
       "<style scoped>\n",
       "    .dataframe tbody tr th:only-of-type {\n",
       "        vertical-align: middle;\n",
       "    }\n",
       "\n",
       "    .dataframe tbody tr th {\n",
       "        vertical-align: top;\n",
       "    }\n",
       "\n",
       "    .dataframe thead th {\n",
       "        text-align: right;\n",
       "    }\n",
       "</style>\n",
       "<table border=\"1\" class=\"dataframe\">\n",
       "  <thead>\n",
       "    <tr style=\"text-align: right;\">\n",
       "      <th></th>\n",
       "      <th>Unnamed: 0</th>\n",
       "      <th>reviewerID</th>\n",
       "      <th>asin</th>\n",
       "      <th>overall</th>\n",
       "      <th>reviewTime</th>\n",
       "      <th>helpful_score</th>\n",
       "      <th>reviews</th>\n",
       "      <th>Sentiment_score</th>\n",
       "      <th>Sentiments</th>\n",
       "    </tr>\n",
       "  </thead>\n",
       "  <tbody>\n",
       "    <tr>\n",
       "      <th>0</th>\n",
       "      <td>0</td>\n",
       "      <td>A1HK2FQW6KXQB2</td>\n",
       "      <td>097293751X</td>\n",
       "      <td>5</td>\n",
       "      <td>2013-07-16</td>\n",
       "      <td>0.0</td>\n",
       "      <td>perfect new parent able keep track baby feed s...</td>\n",
       "      <td>0.7579</td>\n",
       "      <td>Extreme Positive</td>\n",
       "    </tr>\n",
       "    <tr>\n",
       "      <th>1</th>\n",
       "      <td>1</td>\n",
       "      <td>A19K65VY14D13R</td>\n",
       "      <td>097293751X</td>\n",
       "      <td>5</td>\n",
       "      <td>2013-06-29</td>\n",
       "      <td>0.0</td>\n",
       "      <td>book life saver helpful able go back track tre...</td>\n",
       "      <td>0.3818</td>\n",
       "      <td>Positive</td>\n",
       "    </tr>\n",
       "  </tbody>\n",
       "</table>\n",
       "</div>"
      ],
      "text/plain": [
       "   Unnamed: 0      reviewerID        asin  overall  reviewTime  helpful_score  \\\n",
       "0           0  A1HK2FQW6KXQB2  097293751X        5  2013-07-16            0.0   \n",
       "1           1  A19K65VY14D13R  097293751X        5  2013-06-29            0.0   \n",
       "\n",
       "                                             reviews  Sentiment_score  \\\n",
       "0  perfect new parent able keep track baby feed s...           0.7579   \n",
       "1  book life saver helpful able go back track tre...           0.3818   \n",
       "\n",
       "         Sentiments  \n",
       "0  Extreme Positive  \n",
       "1          Positive  "
      ]
     },
     "execution_count": 2,
     "metadata": {},
     "output_type": "execute_result"
    }
   ],
   "source": [
    "toys_reviews7 = pd.read_csv('baby_nlp_final.csv')\n",
    "toys_reviews7.head(2)"
   ]
  },
  {
   "cell_type": "code",
   "execution_count": 3,
   "id": "a62f2db4",
   "metadata": {},
   "outputs": [],
   "source": [
    "toys_reviews7.dropna(axis=0,inplace=True)"
   ]
  },
  {
   "cell_type": "code",
   "execution_count": 4,
   "id": "3c1f84e8",
   "metadata": {},
   "outputs": [
    {
     "name": "stdout",
     "output_type": "stream",
     "text": [
      "trainx=95619, trainy=95619,testx=63746, testy=63746\n",
      "(95619, 2500)\n",
      "(63746, 2500)\n"
     ]
    }
   ],
   "source": [
    "x=toys_reviews7['reviews']\n",
    "y=toys_reviews7['Sentiments']\n",
    "trainx,testx,trainy,testy= train_test_split(x,y,test_size=0.4,random_state=20)\n",
    "print(\"trainx={}, trainy={},testx={}, testy={}\".format(len(trainx),len(trainy),len(testx),len(testy)))\n",
    "      \n",
    "vectorizer = TfidfVectorizer(sublinear_tf=True,\n",
    "                             max_df=0.5,\n",
    "                             min_df=1,\n",
    "                             use_idf=True,\n",
    "                             smooth_idf=True,lowercase=True, max_features=2500)\n",
    "\n",
    "trainx_v=vectorizer.fit_transform(trainx)\n",
    "testx_v=vectorizer.transform(testx)\n",
    "print(trainx_v.shape)\n",
    "print(testx_v.shape)"
   ]
  },
  {
   "cell_type": "code",
   "execution_count": null,
   "id": "7215fe10",
   "metadata": {},
   "outputs": [],
   "source": []
  },
  {
   "cell_type": "code",
   "execution_count": 5,
   "id": "05b048fd",
   "metadata": {},
   "outputs": [],
   "source": [
    "trainx_v=trainx_v.toarray()\n",
    "testx_v=testx_v.toarray()"
   ]
  },
  {
   "cell_type": "code",
   "execution_count": null,
   "id": "1f036425",
   "metadata": {},
   "outputs": [],
   "source": []
  },
  {
   "cell_type": "markdown",
   "id": "319a8804",
   "metadata": {},
   "source": [
    "### Naive Bayes"
   ]
  },
  {
   "cell_type": "code",
   "execution_count": 6,
   "id": "bef9b157",
   "metadata": {},
   "outputs": [],
   "source": [
    "nb = GaussianNB().fit(trainx_v,trainy)\n",
    "scorenb=round(nb.score(trainx_v,trainy)*100,2)\n",
    "y_prednb =nb.predict(testx_v)\n"
   ]
  },
  {
   "cell_type": "code",
   "execution_count": 7,
   "id": "73aa562a",
   "metadata": {},
   "outputs": [],
   "source": [
    "def evaluate(actual,predicted):\n",
    "    print('Accuracy:',accuracy_score(actual,predicted))\n",
    "    print('------------------------------------------------------------')\n",
    "    print('\\n Confusion Matrix: \\n',pd.crosstab(actual,predicted,margins=True))\n",
    "    print('------------------------------------------------------------')\n",
    "    print(\"\\nclassification report: \\n\",classification_report(testy, predicted))"
   ]
  },
  {
   "cell_type": "code",
   "execution_count": 8,
   "id": "8cd9bbfc",
   "metadata": {},
   "outputs": [
    {
     "name": "stdout",
     "output_type": "stream",
     "text": [
      "Accuracy: 0.22997521413108274\n",
      "------------------------------------------------------------\n",
      "\n",
      " Confusion Matrix: \n",
      " col_0             Extreme Negative  Extreme Positive  Negative  Neutral  \\\n",
      "Sentiments                                                                \n",
      "Extreme Negative               611                18       103       55   \n",
      "Extreme Positive             24672             13288      5335     6843   \n",
      "Negative                      1263                55       215      171   \n",
      "Neutral                       1388               101       237      269   \n",
      "Positive                      4551               557       795      937   \n",
      "All                          32485             14019      6685     8275   \n",
      "\n",
      "col_0             Positive    All  \n",
      "Sentiments                         \n",
      "Extreme Negative        19    806  \n",
      "Extreme Positive      1879  52017  \n",
      "Negative                39   1743  \n",
      "Neutral                 68   2063  \n",
      "Positive               277   7117  \n",
      "All                   2282  63746  \n",
      "------------------------------------------------------------\n",
      "\n",
      "classification report: \n",
      "                   precision    recall  f1-score   support\n",
      "\n",
      "Extreme Negative       0.02      0.76      0.04       806\n",
      "Extreme Positive       0.95      0.26      0.40     52017\n",
      "        Negative       0.03      0.12      0.05      1743\n",
      "         Neutral       0.03      0.13      0.05      2063\n",
      "        Positive       0.12      0.04      0.06      7117\n",
      "\n",
      "        accuracy                           0.23     63746\n",
      "       macro avg       0.23      0.26      0.12     63746\n",
      "    weighted avg       0.79      0.23      0.34     63746\n",
      "\n"
     ]
    }
   ],
   "source": [
    "evaluate(testy,y_prednb)"
   ]
  },
  {
   "cell_type": "code",
   "execution_count": null,
   "id": "cb649e87",
   "metadata": {},
   "outputs": [],
   "source": []
  },
  {
   "cell_type": "markdown",
   "id": "7f39ac87",
   "metadata": {},
   "source": [
    "### Decision tree classifier"
   ]
  },
  {
   "cell_type": "code",
   "execution_count": 9,
   "id": "f614f605",
   "metadata": {},
   "outputs": [],
   "source": [
    "dtm = DecisionTreeClassifier(max_depth=6,min_samples_split=5,max_leaf_nodes=10)\n",
    "dtm1=dtm.fit(trainx_v,trainy)\n",
    "y_pred_dt=dtm1.predict(testx_v)\n"
   ]
  },
  {
   "cell_type": "code",
   "execution_count": 10,
   "id": "7e4f818c",
   "metadata": {},
   "outputs": [
    {
     "name": "stdout",
     "output_type": "stream",
     "text": [
      "Accuracy: 0.8160041414363254\n",
      "------------------------------------------------------------\n",
      "\n",
      " Confusion Matrix: \n",
      " col_0             Extreme Positive    All\n",
      "Sentiments                               \n",
      "Extreme Negative               806    806\n",
      "Extreme Positive             52017  52017\n",
      "Negative                      1743   1743\n",
      "Neutral                       2063   2063\n",
      "Positive                      7117   7117\n",
      "All                          63746  63746\n",
      "------------------------------------------------------------\n",
      "\n",
      "classification report: \n",
      "                   precision    recall  f1-score   support\n",
      "\n",
      "Extreme Negative       0.00      0.00      0.00       806\n",
      "Extreme Positive       0.82      1.00      0.90     52017\n",
      "        Negative       0.00      0.00      0.00      1743\n",
      "         Neutral       0.00      0.00      0.00      2063\n",
      "        Positive       0.00      0.00      0.00      7117\n",
      "\n",
      "        accuracy                           0.82     63746\n",
      "       macro avg       0.16      0.20      0.18     63746\n",
      "    weighted avg       0.67      0.82      0.73     63746\n",
      "\n"
     ]
    }
   ],
   "source": [
    "evaluate(testy,y_pred_dt)"
   ]
  },
  {
   "cell_type": "code",
   "execution_count": null,
   "id": "05c38a8e",
   "metadata": {},
   "outputs": [],
   "source": []
  },
  {
   "cell_type": "markdown",
   "id": "795f366f",
   "metadata": {},
   "source": [
    "### Logistic cv"
   ]
  },
  {
   "cell_type": "code",
   "execution_count": 11,
   "id": "a2d48973",
   "metadata": {},
   "outputs": [],
   "source": [
    "from sklearn.linear_model import LogisticRegressionCV\n",
    "clf = LogisticRegressionCV(cv=5, random_state=0,multi_class='multinomial').fit(trainx_v,trainy)\n",
    "y_pred_lrcv=clf.predict(testx_v)"
   ]
  },
  {
   "cell_type": "code",
   "execution_count": 12,
   "id": "cf1e3671",
   "metadata": {},
   "outputs": [
    {
     "name": "stdout",
     "output_type": "stream",
     "text": [
      "Accuracy: 0.8820318137608635\n",
      "------------------------------------------------------------\n",
      "\n",
      " Confusion Matrix: \n",
      " col_0             Extreme Negative  Extreme Positive  Negative  Neutral  \\\n",
      "Sentiments                                                                \n",
      "Extreme Negative               326                45       295       91   \n",
      "Extreme Positive                17             50769        50       75   \n",
      "Negative                       230               139       563      370   \n",
      "Neutral                         61               216       294      452   \n",
      "Positive                        75              2348       228      350   \n",
      "All                            709             53517      1430     1338   \n",
      "\n",
      "col_0             Positive    All  \n",
      "Sentiments                         \n",
      "Extreme Negative        49    806  \n",
      "Extreme Positive      1106  52017  \n",
      "Negative               441   1743  \n",
      "Neutral               1040   2063  \n",
      "Positive              4116   7117  \n",
      "All                   6752  63746  \n",
      "------------------------------------------------------------\n",
      "\n",
      "classification report: \n",
      "                   precision    recall  f1-score   support\n",
      "\n",
      "Extreme Negative       0.46      0.40      0.43       806\n",
      "Extreme Positive       0.95      0.98      0.96     52017\n",
      "        Negative       0.39      0.32      0.35      1743\n",
      "         Neutral       0.34      0.22      0.27      2063\n",
      "        Positive       0.61      0.58      0.59      7117\n",
      "\n",
      "        accuracy                           0.88     63746\n",
      "       macro avg       0.55      0.50      0.52     63746\n",
      "    weighted avg       0.87      0.88      0.88     63746\n",
      "\n"
     ]
    }
   ],
   "source": [
    "evaluate(testy,y_pred_lrcv)"
   ]
  },
  {
   "cell_type": "code",
   "execution_count": null,
   "id": "45baaf10",
   "metadata": {},
   "outputs": [],
   "source": []
  },
  {
   "cell_type": "markdown",
   "id": "ba3edc2a",
   "metadata": {},
   "source": [
    "### adaboost"
   ]
  },
  {
   "cell_type": "code",
   "execution_count": 13,
   "id": "1cd7da4a",
   "metadata": {},
   "outputs": [],
   "source": [
    "ada = AdaBoostClassifier(n_estimators=40, learning_rate=1).fit(trainx_v,trainy)\n",
    "y_pred_ada=ada.predict(testx_v)"
   ]
  },
  {
   "cell_type": "code",
   "execution_count": 14,
   "id": "911a01d3",
   "metadata": {},
   "outputs": [
    {
     "name": "stdout",
     "output_type": "stream",
     "text": [
      "Accuracy: 0.8260753615913156\n",
      "------------------------------------------------------------\n",
      "\n",
      " Confusion Matrix: \n",
      " col_0             Extreme Negative  Extreme Positive  Negative  Neutral  \\\n",
      "Sentiments                                                                \n",
      "Extreme Negative               140               251       133       14   \n",
      "Extreme Positive                38             51037        46        2   \n",
      "Negative                        95               766        96       13   \n",
      "Neutral                         26              1020        43        1   \n",
      "Positive                        45              5635        47        5   \n",
      "All                            344             58709       365       35   \n",
      "\n",
      "col_0             Positive    All  \n",
      "Sentiments                         \n",
      "Extreme Negative       268    806  \n",
      "Extreme Positive       894  52017  \n",
      "Negative               773   1743  \n",
      "Neutral                973   2063  \n",
      "Positive              1385   7117  \n",
      "All                   4293  63746  \n",
      "------------------------------------------------------------\n",
      "\n",
      "classification report: \n",
      "                   precision    recall  f1-score   support\n",
      "\n",
      "Extreme Negative       0.41      0.17      0.24       806\n",
      "Extreme Positive       0.87      0.98      0.92     52017\n",
      "        Negative       0.26      0.06      0.09      1743\n",
      "         Neutral       0.03      0.00      0.00      2063\n",
      "        Positive       0.32      0.19      0.24      7117\n",
      "\n",
      "        accuracy                           0.83     63746\n",
      "       macro avg       0.38      0.28      0.30     63746\n",
      "    weighted avg       0.76      0.83      0.78     63746\n",
      "\n"
     ]
    }
   ],
   "source": [
    "evaluate(testy,y_pred_ada)"
   ]
  },
  {
   "cell_type": "code",
   "execution_count": null,
   "id": "fee09fcb",
   "metadata": {},
   "outputs": [],
   "source": []
  },
  {
   "cell_type": "markdown",
   "id": "fb9be7af",
   "metadata": {},
   "source": [
    "### Logistic one vs rest"
   ]
  },
  {
   "cell_type": "code",
   "execution_count": 15,
   "id": "92240230",
   "metadata": {},
   "outputs": [],
   "source": [
    "m1=LogisticRegression(max_iter=100)\n",
    "m1_ova=OneVsRestClassifier(m1).fit(trainx_v,trainy)"
   ]
  },
  {
   "cell_type": "code",
   "execution_count": 16,
   "id": "9b85db0b",
   "metadata": {},
   "outputs": [
    {
     "data": {
      "text/html": [
       "<div>\n",
       "<style scoped>\n",
       "    .dataframe tbody tr th:only-of-type {\n",
       "        vertical-align: middle;\n",
       "    }\n",
       "\n",
       "    .dataframe tbody tr th {\n",
       "        vertical-align: top;\n",
       "    }\n",
       "\n",
       "    .dataframe thead th {\n",
       "        text-align: right;\n",
       "    }\n",
       "</style>\n",
       "<table border=\"1\" class=\"dataframe\">\n",
       "  <thead>\n",
       "    <tr style=\"text-align: right;\">\n",
       "      <th></th>\n",
       "      <th>Actual</th>\n",
       "      <th>predicted</th>\n",
       "    </tr>\n",
       "  </thead>\n",
       "  <tbody>\n",
       "    <tr>\n",
       "      <th>126104</th>\n",
       "      <td>Extreme Positive</td>\n",
       "      <td>Extreme Positive</td>\n",
       "    </tr>\n",
       "    <tr>\n",
       "      <th>25660</th>\n",
       "      <td>Extreme Positive</td>\n",
       "      <td>Extreme Positive</td>\n",
       "    </tr>\n",
       "    <tr>\n",
       "      <th>92825</th>\n",
       "      <td>Extreme Positive</td>\n",
       "      <td>Extreme Positive</td>\n",
       "    </tr>\n",
       "    <tr>\n",
       "      <th>49136</th>\n",
       "      <td>Extreme Positive</td>\n",
       "      <td>Extreme Positive</td>\n",
       "    </tr>\n",
       "    <tr>\n",
       "      <th>42273</th>\n",
       "      <td>Extreme Positive</td>\n",
       "      <td>Extreme Positive</td>\n",
       "    </tr>\n",
       "  </tbody>\n",
       "</table>\n",
       "</div>"
      ],
      "text/plain": [
       "                  Actual         predicted\n",
       "126104  Extreme Positive  Extreme Positive\n",
       "25660   Extreme Positive  Extreme Positive\n",
       "92825   Extreme Positive  Extreme Positive\n",
       "49136   Extreme Positive  Extreme Positive\n",
       "42273   Extreme Positive  Extreme Positive"
      ]
     },
     "execution_count": 16,
     "metadata": {},
     "output_type": "execute_result"
    }
   ],
   "source": [
    "p1=m1_ova.predict(testx_v)\n",
    "pd.DataFrame({'Actual':testy,\"predicted\":p1})[1045:1050]"
   ]
  },
  {
   "cell_type": "code",
   "execution_count": 17,
   "id": "f3124ffe",
   "metadata": {},
   "outputs": [
    {
     "name": "stdout",
     "output_type": "stream",
     "text": [
      "Accuracy: 0.8502337401562451\n",
      "------------------------------------------------------------\n",
      "\n",
      " Confusion Matrix: \n",
      " col_0             Extreme Negative  Extreme Positive  Negative  Neutral  \\\n",
      "Sentiments                                                                \n",
      "Extreme Negative               119               121       138       16   \n",
      "Extreme Positive                 0             51720        12        2   \n",
      "Negative                        51               408        93       26   \n",
      "Neutral                          8               560        44       30   \n",
      "Positive                         8              4836        20       16   \n",
      "All                            186             57645       307       90   \n",
      "\n",
      "col_0             Positive    All  \n",
      "Sentiments                         \n",
      "Extreme Negative       412    806  \n",
      "Extreme Positive       283  52017  \n",
      "Negative              1165   1743  \n",
      "Neutral               1421   2063  \n",
      "Positive              2237   7117  \n",
      "All                   5518  63746  \n",
      "------------------------------------------------------------\n",
      "\n",
      "classification report: \n",
      "                   precision    recall  f1-score   support\n",
      "\n",
      "Extreme Negative       0.64      0.15      0.24       806\n",
      "Extreme Positive       0.90      0.99      0.94     52017\n",
      "        Negative       0.30      0.05      0.09      1743\n",
      "         Neutral       0.33      0.01      0.03      2063\n",
      "        Positive       0.41      0.31      0.35      7117\n",
      "\n",
      "        accuracy                           0.85     63746\n",
      "       macro avg       0.52      0.30      0.33     63746\n",
      "    weighted avg       0.80      0.85      0.82     63746\n",
      "\n"
     ]
    }
   ],
   "source": [
    "evaluate(testy,p1)"
   ]
  },
  {
   "cell_type": "markdown",
   "id": "3c4097e1",
   "metadata": {},
   "source": [
    "### multinomial"
   ]
  },
  {
   "cell_type": "code",
   "execution_count": 18,
   "id": "3a150e4a",
   "metadata": {},
   "outputs": [],
   "source": [
    "m2 = MultinomialNB()\n",
    "ovr2=OneVsRestClassifier(m2).fit(trainx_v,trainy)"
   ]
  },
  {
   "cell_type": "code",
   "execution_count": 19,
   "id": "817e858b",
   "metadata": {},
   "outputs": [
    {
     "data": {
      "text/html": [
       "<div>\n",
       "<style scoped>\n",
       "    .dataframe tbody tr th:only-of-type {\n",
       "        vertical-align: middle;\n",
       "    }\n",
       "\n",
       "    .dataframe tbody tr th {\n",
       "        vertical-align: top;\n",
       "    }\n",
       "\n",
       "    .dataframe thead th {\n",
       "        text-align: right;\n",
       "    }\n",
       "</style>\n",
       "<table border=\"1\" class=\"dataframe\">\n",
       "  <thead>\n",
       "    <tr style=\"text-align: right;\">\n",
       "      <th></th>\n",
       "      <th>Actual</th>\n",
       "      <th>predicted</th>\n",
       "    </tr>\n",
       "  </thead>\n",
       "  <tbody>\n",
       "    <tr>\n",
       "      <th>71210</th>\n",
       "      <td>Extreme Positive</td>\n",
       "      <td>Extreme Positive</td>\n",
       "    </tr>\n",
       "    <tr>\n",
       "      <th>54941</th>\n",
       "      <td>Extreme Positive</td>\n",
       "      <td>Extreme Positive</td>\n",
       "    </tr>\n",
       "    <tr>\n",
       "      <th>49085</th>\n",
       "      <td>Extreme Positive</td>\n",
       "      <td>Extreme Positive</td>\n",
       "    </tr>\n",
       "    <tr>\n",
       "      <th>122131</th>\n",
       "      <td>Extreme Positive</td>\n",
       "      <td>Extreme Positive</td>\n",
       "    </tr>\n",
       "    <tr>\n",
       "      <th>143013</th>\n",
       "      <td>Extreme Positive</td>\n",
       "      <td>Extreme Positive</td>\n",
       "    </tr>\n",
       "    <tr>\n",
       "      <th>9908</th>\n",
       "      <td>Extreme Positive</td>\n",
       "      <td>Extreme Positive</td>\n",
       "    </tr>\n",
       "    <tr>\n",
       "      <th>154144</th>\n",
       "      <td>Extreme Positive</td>\n",
       "      <td>Extreme Positive</td>\n",
       "    </tr>\n",
       "    <tr>\n",
       "      <th>129334</th>\n",
       "      <td>Extreme Positive</td>\n",
       "      <td>Extreme Positive</td>\n",
       "    </tr>\n",
       "    <tr>\n",
       "      <th>53108</th>\n",
       "      <td>Extreme Positive</td>\n",
       "      <td>Extreme Positive</td>\n",
       "    </tr>\n",
       "    <tr>\n",
       "      <th>1422</th>\n",
       "      <td>Extreme Positive</td>\n",
       "      <td>Extreme Positive</td>\n",
       "    </tr>\n",
       "  </tbody>\n",
       "</table>\n",
       "</div>"
      ],
      "text/plain": [
       "                  Actual         predicted\n",
       "71210   Extreme Positive  Extreme Positive\n",
       "54941   Extreme Positive  Extreme Positive\n",
       "49085   Extreme Positive  Extreme Positive\n",
       "122131  Extreme Positive  Extreme Positive\n",
       "143013  Extreme Positive  Extreme Positive\n",
       "9908    Extreme Positive  Extreme Positive\n",
       "154144  Extreme Positive  Extreme Positive\n",
       "129334  Extreme Positive  Extreme Positive\n",
       "53108   Extreme Positive  Extreme Positive\n",
       "1422    Extreme Positive  Extreme Positive"
      ]
     },
     "execution_count": 19,
     "metadata": {},
     "output_type": "execute_result"
    }
   ],
   "source": [
    "p2=ovr2.predict(testx_v)\n",
    "pd.DataFrame({'Actual':testy,\"predicted\":p2})[:10]"
   ]
  },
  {
   "cell_type": "code",
   "execution_count": 20,
   "id": "09c5ca91",
   "metadata": {},
   "outputs": [
    {
     "name": "stdout",
     "output_type": "stream",
     "text": [
      "Accuracy: 0.8160041414363254\n",
      "------------------------------------------------------------\n",
      "\n",
      " Confusion Matrix: \n",
      " col_0             Extreme Negative  Extreme Positive  Negative  Positive  \\\n",
      "Sentiments                                                                 \n",
      "Extreme Negative                 1               769         6        30   \n",
      "Extreme Positive                 0             52012         0         5   \n",
      "Negative                         0              1736         1         6   \n",
      "Neutral                          0              2062         0         1   \n",
      "Positive                         0              7114         0         3   \n",
      "All                              1             63693         7        45   \n",
      "\n",
      "col_0               All  \n",
      "Sentiments               \n",
      "Extreme Negative    806  \n",
      "Extreme Positive  52017  \n",
      "Negative           1743  \n",
      "Neutral            2063  \n",
      "Positive           7117  \n",
      "All               63746  \n",
      "------------------------------------------------------------\n",
      "\n",
      "classification report: \n",
      "                   precision    recall  f1-score   support\n",
      "\n",
      "Extreme Negative       1.00      0.00      0.00       806\n",
      "Extreme Positive       0.82      1.00      0.90     52017\n",
      "        Negative       0.14      0.00      0.00      1743\n",
      "         Neutral       0.00      0.00      0.00      2063\n",
      "        Positive       0.07      0.00      0.00      7117\n",
      "\n",
      "        accuracy                           0.82     63746\n",
      "       macro avg       0.41      0.20      0.18     63746\n",
      "    weighted avg       0.69      0.82      0.73     63746\n",
      "\n"
     ]
    }
   ],
   "source": [
    "evaluate(testy,p2)"
   ]
  },
  {
   "cell_type": "code",
   "execution_count": null,
   "id": "13352aea",
   "metadata": {},
   "outputs": [],
   "source": []
  },
  {
   "cell_type": "code",
   "execution_count": null,
   "id": "1876007c",
   "metadata": {},
   "outputs": [],
   "source": []
  },
  {
   "cell_type": "code",
   "execution_count": null,
   "id": "3958a0fd",
   "metadata": {},
   "outputs": [],
   "source": []
  }
 ],
 "metadata": {
  "kernelspec": {
   "display_name": "Python 3 (ipykernel)",
   "language": "python",
   "name": "python3"
  },
  "language_info": {
   "codemirror_mode": {
    "name": "ipython",
    "version": 3
   },
   "file_extension": ".py",
   "mimetype": "text/x-python",
   "name": "python",
   "nbconvert_exporter": "python",
   "pygments_lexer": "ipython3",
   "version": "3.9.12"
  }
 },
 "nbformat": 4,
 "nbformat_minor": 5
}
