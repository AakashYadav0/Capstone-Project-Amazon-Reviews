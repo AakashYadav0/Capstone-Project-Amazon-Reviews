{
 "cells": [
  {
   "cell_type": "code",
   "execution_count": 1,
   "id": "0d4e3d93",
   "metadata": {},
   "outputs": [],
   "source": [
    "import pandas as pd\n",
    "import numpy as np"
   ]
  },
  {
   "cell_type": "code",
   "execution_count": 71,
   "id": "62afe7da",
   "metadata": {},
   "outputs": [],
   "source": [
    "baby=pd.read_csv('baby_nlp_final.csv')"
   ]
  },
  {
   "cell_type": "code",
   "execution_count": 72,
   "id": "79b7f1ec",
   "metadata": {},
   "outputs": [],
   "source": [
    "tag=pd.read_csv('tag_nlp_final.csv')"
   ]
  },
  {
   "cell_type": "code",
   "execution_count": 73,
   "id": "f0ed28d8",
   "metadata": {},
   "outputs": [
    {
     "data": {
      "text/html": [
       "<div>\n",
       "<style scoped>\n",
       "    .dataframe tbody tr th:only-of-type {\n",
       "        vertical-align: middle;\n",
       "    }\n",
       "\n",
       "    .dataframe tbody tr th {\n",
       "        vertical-align: top;\n",
       "    }\n",
       "\n",
       "    .dataframe thead th {\n",
       "        text-align: right;\n",
       "    }\n",
       "</style>\n",
       "<table border=\"1\" class=\"dataframe\">\n",
       "  <thead>\n",
       "    <tr style=\"text-align: right;\">\n",
       "      <th></th>\n",
       "      <th>Unnamed: 0</th>\n",
       "      <th>reviewerID</th>\n",
       "      <th>asin</th>\n",
       "      <th>overall</th>\n",
       "      <th>reviewTime</th>\n",
       "      <th>helpful_score</th>\n",
       "      <th>reviews</th>\n",
       "      <th>Sentiment_score</th>\n",
       "      <th>Sentiments</th>\n",
       "    </tr>\n",
       "  </thead>\n",
       "  <tbody>\n",
       "    <tr>\n",
       "      <th>0</th>\n",
       "      <td>0</td>\n",
       "      <td>A1HK2FQW6KXQB2</td>\n",
       "      <td>097293751X</td>\n",
       "      <td>5</td>\n",
       "      <td>2013-07-16</td>\n",
       "      <td>0.0</td>\n",
       "      <td>perfect new parent able keep track baby feed s...</td>\n",
       "      <td>0.7579</td>\n",
       "      <td>Extreme Positive</td>\n",
       "    </tr>\n",
       "    <tr>\n",
       "      <th>1</th>\n",
       "      <td>1</td>\n",
       "      <td>A19K65VY14D13R</td>\n",
       "      <td>097293751X</td>\n",
       "      <td>5</td>\n",
       "      <td>2013-06-29</td>\n",
       "      <td>0.0</td>\n",
       "      <td>book life saver helpful able go back track tre...</td>\n",
       "      <td>0.3818</td>\n",
       "      <td>Positive</td>\n",
       "    </tr>\n",
       "  </tbody>\n",
       "</table>\n",
       "</div>"
      ],
      "text/plain": [
       "   Unnamed: 0      reviewerID        asin  overall  reviewTime  helpful_score  \\\n",
       "0           0  A1HK2FQW6KXQB2  097293751X        5  2013-07-16            0.0   \n",
       "1           1  A19K65VY14D13R  097293751X        5  2013-06-29            0.0   \n",
       "\n",
       "                                             reviews  Sentiment_score  \\\n",
       "0  perfect new parent able keep track baby feed s...           0.7579   \n",
       "1  book life saver helpful able go back track tre...           0.3818   \n",
       "\n",
       "         Sentiments  \n",
       "0  Extreme Positive  \n",
       "1          Positive  "
      ]
     },
     "execution_count": 73,
     "metadata": {},
     "output_type": "execute_result"
    }
   ],
   "source": [
    "baby.head(2)"
   ]
  },
  {
   "cell_type": "code",
   "execution_count": 74,
   "id": "d702fcba",
   "metadata": {},
   "outputs": [
    {
     "data": {
      "text/html": [
       "<div>\n",
       "<style scoped>\n",
       "    .dataframe tbody tr th:only-of-type {\n",
       "        vertical-align: middle;\n",
       "    }\n",
       "\n",
       "    .dataframe tbody tr th {\n",
       "        vertical-align: top;\n",
       "    }\n",
       "\n",
       "    .dataframe thead th {\n",
       "        text-align: right;\n",
       "    }\n",
       "</style>\n",
       "<table border=\"1\" class=\"dataframe\">\n",
       "  <thead>\n",
       "    <tr style=\"text-align: right;\">\n",
       "      <th></th>\n",
       "      <th>Unnamed: 0</th>\n",
       "      <th>reviewerID</th>\n",
       "      <th>asin</th>\n",
       "      <th>overall</th>\n",
       "      <th>reviewTime</th>\n",
       "      <th>helpful_score</th>\n",
       "      <th>reviews</th>\n",
       "      <th>Sentiment_score</th>\n",
       "      <th>Sentiments</th>\n",
       "    </tr>\n",
       "  </thead>\n",
       "  <tbody>\n",
       "    <tr>\n",
       "      <th>0</th>\n",
       "      <td>0</td>\n",
       "      <td>A1VXOAVRGKGEAK</td>\n",
       "      <td>0439893577</td>\n",
       "      <td>5</td>\n",
       "      <td>2014-01-29</td>\n",
       "      <td>0.0</td>\n",
       "      <td>like item price granddaughter want mark want l...</td>\n",
       "      <td>0.4767</td>\n",
       "      <td>Positive</td>\n",
       "    </tr>\n",
       "    <tr>\n",
       "      <th>1</th>\n",
       "      <td>1</td>\n",
       "      <td>A8R62G708TSCM</td>\n",
       "      <td>0439893577</td>\n",
       "      <td>4</td>\n",
       "      <td>2014-03-28</td>\n",
       "      <td>1.0</td>\n",
       "      <td>love magnet easel great move different areas w...</td>\n",
       "      <td>0.9545</td>\n",
       "      <td>Extreme Positive</td>\n",
       "    </tr>\n",
       "  </tbody>\n",
       "</table>\n",
       "</div>"
      ],
      "text/plain": [
       "   Unnamed: 0      reviewerID        asin  overall  reviewTime  helpful_score  \\\n",
       "0           0  A1VXOAVRGKGEAK  0439893577        5  2014-01-29            0.0   \n",
       "1           1   A8R62G708TSCM  0439893577        4  2014-03-28            1.0   \n",
       "\n",
       "                                             reviews  Sentiment_score  \\\n",
       "0  like item price granddaughter want mark want l...           0.4767   \n",
       "1  love magnet easel great move different areas w...           0.9545   \n",
       "\n",
       "         Sentiments  \n",
       "0          Positive  \n",
       "1  Extreme Positive  "
      ]
     },
     "execution_count": 74,
     "metadata": {},
     "output_type": "execute_result"
    }
   ],
   "source": [
    "tag.head(2)"
   ]
  },
  {
   "cell_type": "code",
   "execution_count": 75,
   "id": "b7ce61d9",
   "metadata": {},
   "outputs": [
    {
     "data": {
      "text/plain": [
       "(159367, 9)"
      ]
     },
     "execution_count": 75,
     "metadata": {},
     "output_type": "execute_result"
    }
   ],
   "source": [
    "baby.shape"
   ]
  },
  {
   "cell_type": "code",
   "execution_count": 76,
   "id": "f001a1e8",
   "metadata": {},
   "outputs": [
    {
     "data": {
      "text/plain": [
       "(166666, 9)"
      ]
     },
     "execution_count": 76,
     "metadata": {},
     "output_type": "execute_result"
    }
   ],
   "source": [
    "tag.shape"
   ]
  },
  {
   "cell_type": "code",
   "execution_count": 77,
   "id": "1697d090",
   "metadata": {},
   "outputs": [],
   "source": [
    "baby['count']='Baby'"
   ]
  },
  {
   "cell_type": "code",
   "execution_count": 78,
   "id": "00e82f74",
   "metadata": {},
   "outputs": [],
   "source": [
    "tag['count']='Toys'"
   ]
  },
  {
   "cell_type": "code",
   "execution_count": 79,
   "id": "287d538f",
   "metadata": {},
   "outputs": [
    {
     "data": {
      "text/plain": [
       "(19437,)"
      ]
     },
     "execution_count": 79,
     "metadata": {},
     "output_type": "execute_result"
    }
   ],
   "source": [
    "baby.reviewerID.unique().shape"
   ]
  },
  {
   "cell_type": "code",
   "execution_count": 80,
   "id": "663505ad",
   "metadata": {},
   "outputs": [
    {
     "data": {
      "text/plain": [
       "(19400,)"
      ]
     },
     "execution_count": 80,
     "metadata": {},
     "output_type": "execute_result"
    }
   ],
   "source": [
    "tag.reviewerID.unique().shape"
   ]
  },
  {
   "cell_type": "code",
   "execution_count": 10,
   "id": "7187bac4",
   "metadata": {},
   "outputs": [
    {
     "data": {
      "text/plain": [
       "(593624, 17)"
      ]
     },
     "execution_count": 10,
     "metadata": {},
     "output_type": "execute_result"
    }
   ],
   "source": [
    "baby.merge(tag,on='reviewerID',how='inner').shape"
   ]
  },
  {
   "cell_type": "code",
   "execution_count": 81,
   "id": "62179283",
   "metadata": {},
   "outputs": [],
   "source": [
    "a=[]\n",
    "for i in baby.reviewerID.unique():\n",
    "    for j in tag.reviewerID.unique():\n",
    "        if i==j:\n",
    "            a.append(i)\n",
    "        "
   ]
  },
  {
   "cell_type": "code",
   "execution_count": 82,
   "id": "03065759",
   "metadata": {},
   "outputs": [
    {
     "data": {
      "text/plain": [
       "2979"
      ]
     },
     "execution_count": 82,
     "metadata": {},
     "output_type": "execute_result"
    }
   ],
   "source": [
    "len(a)"
   ]
  },
  {
   "cell_type": "code",
   "execution_count": 83,
   "id": "207f5ba8",
   "metadata": {},
   "outputs": [],
   "source": [
    "df5=pd.concat([baby,tag],axis=0)"
   ]
  },
  {
   "cell_type": "code",
   "execution_count": 84,
   "id": "ce7e5be7",
   "metadata": {},
   "outputs": [],
   "source": [
    "df6=df5[df5['reviewerID'].isin(a)]"
   ]
  },
  {
   "cell_type": "code",
   "execution_count": 89,
   "id": "06029a64",
   "metadata": {},
   "outputs": [
    {
     "data": {
      "text/html": [
       "<div>\n",
       "<style scoped>\n",
       "    .dataframe tbody tr th:only-of-type {\n",
       "        vertical-align: middle;\n",
       "    }\n",
       "\n",
       "    .dataframe tbody tr th {\n",
       "        vertical-align: top;\n",
       "    }\n",
       "\n",
       "    .dataframe thead th {\n",
       "        text-align: right;\n",
       "    }\n",
       "</style>\n",
       "<table border=\"1\" class=\"dataframe\">\n",
       "  <thead>\n",
       "    <tr style=\"text-align: right;\">\n",
       "      <th></th>\n",
       "      <th>Unnamed: 0</th>\n",
       "      <th>reviewerID</th>\n",
       "      <th>asin</th>\n",
       "      <th>overall</th>\n",
       "      <th>reviewTime</th>\n",
       "      <th>helpful_score</th>\n",
       "      <th>reviews</th>\n",
       "      <th>Sentiment_score</th>\n",
       "      <th>Sentiments</th>\n",
       "      <th>count</th>\n",
       "    </tr>\n",
       "  </thead>\n",
       "  <tbody>\n",
       "    <tr>\n",
       "      <th>15</th>\n",
       "      <td>15</td>\n",
       "      <td>A2Q2A6JKY95RTP</td>\n",
       "      <td>097293751X</td>\n",
       "      <td>3</td>\n",
       "      <td>2013-10-17</td>\n",
       "      <td>1.0</td>\n",
       "      <td>wife six month old baby boy around month mark ...</td>\n",
       "      <td>0.9892</td>\n",
       "      <td>Extreme Positive</td>\n",
       "      <td>Baby</td>\n",
       "    </tr>\n",
       "    <tr>\n",
       "      <th>19</th>\n",
       "      <td>19</td>\n",
       "      <td>A3PGZ7W5NH3S0T</td>\n",
       "      <td>9729375011</td>\n",
       "      <td>5</td>\n",
       "      <td>2014-01-19</td>\n",
       "      <td>0.0</td>\n",
       "      <td>item extremely helpful especially adults share...</td>\n",
       "      <td>0.9736</td>\n",
       "      <td>Extreme Positive</td>\n",
       "      <td>Baby</td>\n",
       "    </tr>\n",
       "    <tr>\n",
       "      <th>41</th>\n",
       "      <td>41</td>\n",
       "      <td>A2XDQLKDWBDWAJ</td>\n",
       "      <td>9729375011</td>\n",
       "      <td>5</td>\n",
       "      <td>2014-03-07</td>\n",
       "      <td>0.0</td>\n",
       "      <td>go schedule twin four months old care givers f...</td>\n",
       "      <td>0.9212</td>\n",
       "      <td>Extreme Positive</td>\n",
       "      <td>Baby</td>\n",
       "    </tr>\n",
       "    <tr>\n",
       "      <th>42</th>\n",
       "      <td>42</td>\n",
       "      <td>A2BGDV09HCHX8E</td>\n",
       "      <td>9729375011</td>\n",
       "      <td>4</td>\n",
       "      <td>2013-02-04</td>\n",
       "      <td>0.0</td>\n",
       "      <td>inside nice clean columns diaper change amount...</td>\n",
       "      <td>0.9260</td>\n",
       "      <td>Extreme Positive</td>\n",
       "      <td>Baby</td>\n",
       "    </tr>\n",
       "    <tr>\n",
       "      <th>43</th>\n",
       "      <td>43</td>\n",
       "      <td>A2PEIERQZR3COP</td>\n",
       "      <td>9729375011</td>\n",
       "      <td>5</td>\n",
       "      <td>2012-03-21</td>\n",
       "      <td>0.0</td>\n",
       "      <td>love app phone baby esp husband realistic some...</td>\n",
       "      <td>0.9783</td>\n",
       "      <td>Extreme Positive</td>\n",
       "      <td>Baby</td>\n",
       "    </tr>\n",
       "  </tbody>\n",
       "</table>\n",
       "</div>"
      ],
      "text/plain": [
       "    Unnamed: 0      reviewerID        asin  overall  reviewTime  \\\n",
       "15          15  A2Q2A6JKY95RTP  097293751X        3  2013-10-17   \n",
       "19          19  A3PGZ7W5NH3S0T  9729375011        5  2014-01-19   \n",
       "41          41  A2XDQLKDWBDWAJ  9729375011        5  2014-03-07   \n",
       "42          42  A2BGDV09HCHX8E  9729375011        4  2013-02-04   \n",
       "43          43  A2PEIERQZR3COP  9729375011        5  2012-03-21   \n",
       "\n",
       "    helpful_score                                            reviews  \\\n",
       "15            1.0  wife six month old baby boy around month mark ...   \n",
       "19            0.0  item extremely helpful especially adults share...   \n",
       "41            0.0  go schedule twin four months old care givers f...   \n",
       "42            0.0  inside nice clean columns diaper change amount...   \n",
       "43            0.0  love app phone baby esp husband realistic some...   \n",
       "\n",
       "    Sentiment_score        Sentiments count  \n",
       "15           0.9892  Extreme Positive  Baby  \n",
       "19           0.9736  Extreme Positive  Baby  \n",
       "41           0.9212  Extreme Positive  Baby  \n",
       "42           0.9260  Extreme Positive  Baby  \n",
       "43           0.9783  Extreme Positive  Baby  "
      ]
     },
     "execution_count": 89,
     "metadata": {},
     "output_type": "execute_result"
    }
   ],
   "source": [
    "df6.head()"
   ]
  },
  {
   "cell_type": "code",
   "execution_count": 88,
   "id": "fd087ff3",
   "metadata": {},
   "outputs": [
    {
     "data": {
      "text/plain": [
       "2979"
      ]
     },
     "execution_count": 88,
     "metadata": {},
     "output_type": "execute_result"
    }
   ],
   "source": [
    "a=list(df6.reviewerID.unique())\n",
    "len(a)"
   ]
  },
  {
   "cell_type": "code",
   "execution_count": 86,
   "id": "a9f70d26",
   "metadata": {},
   "outputs": [],
   "source": [
    "#df6.to_csv('problem4.csv')"
   ]
  },
  {
   "cell_type": "code",
   "execution_count": 91,
   "id": "0544841e",
   "metadata": {},
   "outputs": [],
   "source": [
    "df7=df6[df6['count']=='Baby']"
   ]
  },
  {
   "cell_type": "code",
   "execution_count": 94,
   "id": "4a99fa77",
   "metadata": {},
   "outputs": [
    {
     "data": {
      "text/html": [
       "<div>\n",
       "<style scoped>\n",
       "    .dataframe tbody tr th:only-of-type {\n",
       "        vertical-align: middle;\n",
       "    }\n",
       "\n",
       "    .dataframe tbody tr th {\n",
       "        vertical-align: top;\n",
       "    }\n",
       "\n",
       "    .dataframe thead th {\n",
       "        text-align: right;\n",
       "    }\n",
       "</style>\n",
       "<table border=\"1\" class=\"dataframe\">\n",
       "  <thead>\n",
       "    <tr style=\"text-align: right;\">\n",
       "      <th></th>\n",
       "      <th>Unnamed: 0</th>\n",
       "      <th>asin</th>\n",
       "      <th>overall</th>\n",
       "      <th>reviewTime</th>\n",
       "      <th>helpful_score</th>\n",
       "      <th>reviews</th>\n",
       "      <th>Sentiment_score</th>\n",
       "      <th>Sentiments</th>\n",
       "      <th>count</th>\n",
       "    </tr>\n",
       "    <tr>\n",
       "      <th>reviewerID</th>\n",
       "      <th></th>\n",
       "      <th></th>\n",
       "      <th></th>\n",
       "      <th></th>\n",
       "      <th></th>\n",
       "      <th></th>\n",
       "      <th></th>\n",
       "      <th></th>\n",
       "      <th></th>\n",
       "    </tr>\n",
       "  </thead>\n",
       "  <tbody>\n",
       "    <tr>\n",
       "      <th>A791QXBYPINLM</th>\n",
       "      <td>3</td>\n",
       "      <td>3</td>\n",
       "      <td>3</td>\n",
       "      <td>3</td>\n",
       "      <td>3</td>\n",
       "      <td>3</td>\n",
       "      <td>3</td>\n",
       "      <td>3</td>\n",
       "      <td>3</td>\n",
       "    </tr>\n",
       "    <tr>\n",
       "      <th>A56N2JWMYVWDB</th>\n",
       "      <td>3</td>\n",
       "      <td>3</td>\n",
       "      <td>3</td>\n",
       "      <td>3</td>\n",
       "      <td>3</td>\n",
       "      <td>3</td>\n",
       "      <td>3</td>\n",
       "      <td>3</td>\n",
       "      <td>3</td>\n",
       "    </tr>\n",
       "    <tr>\n",
       "      <th>A7U3641HUNI86</th>\n",
       "      <td>4</td>\n",
       "      <td>4</td>\n",
       "      <td>4</td>\n",
       "      <td>4</td>\n",
       "      <td>4</td>\n",
       "      <td>4</td>\n",
       "      <td>4</td>\n",
       "      <td>4</td>\n",
       "      <td>4</td>\n",
       "    </tr>\n",
       "    <tr>\n",
       "      <th>ARE17OJYCRDPJ</th>\n",
       "      <td>4</td>\n",
       "      <td>4</td>\n",
       "      <td>4</td>\n",
       "      <td>4</td>\n",
       "      <td>4</td>\n",
       "      <td>4</td>\n",
       "      <td>4</td>\n",
       "      <td>4</td>\n",
       "      <td>4</td>\n",
       "    </tr>\n",
       "    <tr>\n",
       "      <th>A1W4G8B9BAWR1O</th>\n",
       "      <td>4</td>\n",
       "      <td>4</td>\n",
       "      <td>4</td>\n",
       "      <td>4</td>\n",
       "      <td>4</td>\n",
       "      <td>4</td>\n",
       "      <td>4</td>\n",
       "      <td>4</td>\n",
       "      <td>4</td>\n",
       "    </tr>\n",
       "    <tr>\n",
       "      <th>...</th>\n",
       "      <td>...</td>\n",
       "      <td>...</td>\n",
       "      <td>...</td>\n",
       "      <td>...</td>\n",
       "      <td>...</td>\n",
       "      <td>...</td>\n",
       "      <td>...</td>\n",
       "      <td>...</td>\n",
       "      <td>...</td>\n",
       "    </tr>\n",
       "    <tr>\n",
       "      <th>AOEUN9718KVRD</th>\n",
       "      <td>78</td>\n",
       "      <td>78</td>\n",
       "      <td>78</td>\n",
       "      <td>78</td>\n",
       "      <td>78</td>\n",
       "      <td>78</td>\n",
       "      <td>78</td>\n",
       "      <td>78</td>\n",
       "      <td>78</td>\n",
       "    </tr>\n",
       "    <tr>\n",
       "      <th>A276OI0NHBYORX</th>\n",
       "      <td>87</td>\n",
       "      <td>87</td>\n",
       "      <td>87</td>\n",
       "      <td>87</td>\n",
       "      <td>87</td>\n",
       "      <td>87</td>\n",
       "      <td>87</td>\n",
       "      <td>87</td>\n",
       "      <td>87</td>\n",
       "    </tr>\n",
       "    <tr>\n",
       "      <th>AJGU56YG8G1DQ</th>\n",
       "      <td>88</td>\n",
       "      <td>88</td>\n",
       "      <td>88</td>\n",
       "      <td>88</td>\n",
       "      <td>88</td>\n",
       "      <td>88</td>\n",
       "      <td>88</td>\n",
       "      <td>88</td>\n",
       "      <td>88</td>\n",
       "    </tr>\n",
       "    <tr>\n",
       "      <th>AF8SREA2XE7BJ</th>\n",
       "      <td>109</td>\n",
       "      <td>109</td>\n",
       "      <td>109</td>\n",
       "      <td>109</td>\n",
       "      <td>109</td>\n",
       "      <td>109</td>\n",
       "      <td>109</td>\n",
       "      <td>109</td>\n",
       "      <td>109</td>\n",
       "    </tr>\n",
       "    <tr>\n",
       "      <th>ARIFCL50JD5SK</th>\n",
       "      <td>124</td>\n",
       "      <td>124</td>\n",
       "      <td>124</td>\n",
       "      <td>124</td>\n",
       "      <td>124</td>\n",
       "      <td>124</td>\n",
       "      <td>124</td>\n",
       "      <td>124</td>\n",
       "      <td>124</td>\n",
       "    </tr>\n",
       "  </tbody>\n",
       "</table>\n",
       "<p>2979 rows × 9 columns</p>\n",
       "</div>"
      ],
      "text/plain": [
       "                Unnamed: 0  asin  overall  reviewTime  helpful_score  reviews  \\\n",
       "reviewerID                                                                      \n",
       "A791QXBYPINLM            3     3        3           3              3        3   \n",
       "A56N2JWMYVWDB            3     3        3           3              3        3   \n",
       "A7U3641HUNI86            4     4        4           4              4        4   \n",
       "ARE17OJYCRDPJ            4     4        4           4              4        4   \n",
       "A1W4G8B9BAWR1O           4     4        4           4              4        4   \n",
       "...                    ...   ...      ...         ...            ...      ...   \n",
       "AOEUN9718KVRD           78    78       78          78             78       78   \n",
       "A276OI0NHBYORX          87    87       87          87             87       87   \n",
       "AJGU56YG8G1DQ           88    88       88          88             88       88   \n",
       "AF8SREA2XE7BJ          109   109      109         109            109      109   \n",
       "ARIFCL50JD5SK          124   124      124         124            124      124   \n",
       "\n",
       "                Sentiment_score  Sentiments  count  \n",
       "reviewerID                                          \n",
       "A791QXBYPINLM                 3           3      3  \n",
       "A56N2JWMYVWDB                 3           3      3  \n",
       "A7U3641HUNI86                 4           4      4  \n",
       "ARE17OJYCRDPJ                 4           4      4  \n",
       "A1W4G8B9BAWR1O                4           4      4  \n",
       "...                         ...         ...    ...  \n",
       "AOEUN9718KVRD                78          78     78  \n",
       "A276OI0NHBYORX               87          87     87  \n",
       "AJGU56YG8G1DQ                88          88     88  \n",
       "AF8SREA2XE7BJ               109         109    109  \n",
       "ARIFCL50JD5SK               124         124    124  \n",
       "\n",
       "[2979 rows x 9 columns]"
      ]
     },
     "execution_count": 94,
     "metadata": {},
     "output_type": "execute_result"
    }
   ],
   "source": [
    "df7.groupby(['reviewerID']).count().sort_values(by='asin')"
   ]
  },
  {
   "cell_type": "code",
   "execution_count": null,
   "id": "cc2272cb",
   "metadata": {},
   "outputs": [],
   "source": []
  },
  {
   "cell_type": "code",
   "execution_count": null,
   "id": "22410ab3",
   "metadata": {},
   "outputs": [],
   "source": []
  },
  {
   "cell_type": "code",
   "execution_count": null,
   "id": "9bc576a1",
   "metadata": {},
   "outputs": [],
   "source": []
  }
 ],
 "metadata": {
  "kernelspec": {
   "display_name": "Python 3 (ipykernel)",
   "language": "python",
   "name": "python3"
  },
  "language_info": {
   "codemirror_mode": {
    "name": "ipython",
    "version": 3
   },
   "file_extension": ".py",
   "mimetype": "text/x-python",
   "name": "python",
   "nbconvert_exporter": "python",
   "pygments_lexer": "ipython3",
   "version": "3.9.12"
  }
 },
 "nbformat": 4,
 "nbformat_minor": 5
}
